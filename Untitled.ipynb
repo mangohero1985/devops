{
 "cells": [
  {
   "cell_type": "code",
   "execution_count": 1,
   "metadata": {},
   "outputs": [],
   "source": [
    "import numpy as np\n",
    "import pandas as pd\n",
    "\n",
    "import pyspark.sql.functions as F\n",
    "import pyspark.sql.types as T\n",
    "from pyspark.sql import SparkSession"
   ]
  },
  {
   "cell_type": "code",
   "execution_count": 2,
   "metadata": {},
   "outputs": [],
   "source": [
    "spark = SparkSession\\\n",
    "    .builder\\\n",
    "    .enableHiveSupport()\\\n",
    "    .config(\"spark.dynamicAllocation.enabled\", False)\\\n",
    "    .config(\"spark.executor.memory\", \"4g\")\\\n",
    "    .getOrCreate()"
   ]
  },
  {
   "cell_type": "code",
   "execution_count": 3,
   "metadata": {},
   "outputs": [],
   "source": [
    "arrays = [\n",
    "  ([1, 2], [2, 4]),\n",
    "  ([1, 1], [-1, -1]),\n",
    "  ([1,2], [2, 1])  \n",
    "]\n",
    "\n",
    "schema = T.StructType([\n",
    "    T.StructField('a', T.ArrayType(T.IntegerType()), nullable=False),\n",
    "    T.StructField('b', T.ArrayType(T.IntegerType()), nullable=False)\n",
    "])\n",
    "\n",
    "df = spark.createDataFrame(\n",
    "  pd.DataFrame(\n",
    "    arrays\n",
    "  ),\n",
    "  schema\n",
    ")"
   ]
  },
  {
   "cell_type": "code",
   "execution_count": 4,
   "metadata": {},
   "outputs": [
    {
     "name": "stdout",
     "output_type": "stream",
     "text": [
      "+------+--------+\n",
      "|     a|       b|\n",
      "+------+--------+\n",
      "|[1, 2]|  [2, 4]|\n",
      "|[1, 1]|[-1, -1]|\n",
      "|[1, 2]|  [2, 1]|\n",
      "+------+--------+\n",
      "\n"
     ]
    }
   ],
   "source": [
    "df.show()"
   ]
  },
  {
   "cell_type": "code",
   "execution_count": 5,
   "metadata": {},
   "outputs": [
    {
     "name": "stdout",
     "output_type": "stream",
     "text": [
      "+-------+\n",
      "|cos_sim|\n",
      "+-------+\n",
      "|    1.0|\n",
      "|   -1.0|\n",
      "|    0.8|\n",
      "+-------+\n",
      "\n"
     ]
    }
   ],
   "source": [
    "def cosine_similarity(a, b):\n",
    "  return float(np.dot(a, b)/(np.linalg.norm(a)*np.linalg.norm(b)))\n",
    "\n",
    "cosine_similarity_udf = F.udf(cosine_similarity, T.FloatType())\n",
    "\n",
    "def compute_similarity(df):\n",
    "  rst = df\\\n",
    "  .withColumn(\"cos_sim\", cosine_similarity_udf(F.col(\"a\"), F.col(\"b\")))\\\n",
    "  .select(\"cos_sim\")\n",
    "  return rst\n",
    "\n",
    "df_rst = compute_similarity(df)\n",
    "df_rst.show()"
   ]
  },
  {
   "cell_type": "code",
   "execution_count": 28,
   "metadata": {},
   "outputs": [],
   "source": [
    "import unittest\n",
    "import logging\n",
    "import warnings\n",
    "\n",
    "from pyspark.sql import SparkSession\n",
    "\n",
    "\n",
    "class PysparkTestCase(unittest.TestCase):\n",
    "\n",
    "  @classmethod\n",
    "  def suppress_py4j_logging(cls):\n",
    "    warnings.filterwarnings(\n",
    "      action=\"ignore\",\n",
    "      message=\"unclosed\",\n",
    "      category=ResourceWarning)\n",
    "    logger = logging.getLogger(\"py4j\")\n",
    "    logger.setLevel(logging.ERROR)\n",
    "\n",
    "  @classmethod\n",
    "  def setUpClass(cls):\n",
    "    cls.suppress_py4j_logging()\n",
    "    cls.spark = SparkSession.builder.getOrCreate()\n",
    "    cls.spark.sparkContext.setLogLevel('WARN')\n",
    "\n",
    "  @classmethod\n",
    "  def tearDownClass(cls):\n",
    "    cls.spark.stop()\n",
    "\n",
    "  @classmethod\n",
    "  def is_dataframe_equal(cls, df1, df2):\n",
    "    if not df1.schema.simpleString() == df2.schema.simpleString():\n",
    "      print(df1.schema.simpleString())\n",
    "      print(df2.schema.simpleString())\n",
    "      return False\n",
    "\n",
    "    if df1.join(df2, df1.columns, \"left_anti\").count() > 0:\n",
    "      return False\n",
    "    return True"
   ]
  },
  {
   "cell_type": "code",
   "execution_count": 29,
   "metadata": {},
   "outputs": [],
   "source": [
    "from utils import compute_similarity"
   ]
  },
  {
   "cell_type": "code",
   "execution_count": 30,
   "metadata": {},
   "outputs": [],
   "source": [
    "class UtilsTest(PysparkTestCase):\n",
    "\n",
    "    def test_compute_similarity(self):\n",
    "        arrays = [\n",
    "            ([1, 2], [2, 4], 1.0),\n",
    "            ([1, 1], [-1, -1], -1.0),\n",
    "            ([1, 2], [2, 1], 0.8)\n",
    "        ]\n",
    "\n",
    "        schema = T.StructType([\n",
    "            T.StructField('a', T.ArrayType(T.IntegerType()), nullable=False),\n",
    "            T.StructField('b', T.ArrayType(T.IntegerType()), nullable=False),\n",
    "            T.StructField('c', T.FloatType(), nullable=False)\n",
    "        ])\n",
    "        \n",
    "        df = self.spark.createDataFrame(\n",
    "            pd.DataFrame(\n",
    "                arrays\n",
    "            ),\n",
    "            schema\n",
    "        )\n",
    "        df_expect = df.select(F.col('c'))\n",
    "\n",
    "        df_test = compute_similarity(df)\n",
    "\n",
    "        self.assertTrue(\n",
    "            self.is_dataframe_equal(\n",
    "                df_test,\n",
    "                df_expect\n",
    "            )\n",
    "        )"
   ]
  },
  {
   "cell_type": "code",
   "execution_count": 31,
   "metadata": {},
   "outputs": [],
   "source": [
    "import unittest"
   ]
  },
  {
   "cell_type": "code",
   "execution_count": 32,
   "metadata": {},
   "outputs": [],
   "source": [
    "runner = unittest.TextTestRunner()"
   ]
  },
  {
   "cell_type": "code",
   "execution_count": 33,
   "metadata": {},
   "outputs": [
    {
     "ename": "AttributeError",
     "evalue": "'UtilsTest' object has no attribute 'spark'",
     "output_type": "error",
     "traceback": [
      "\u001b[0;31m---------------------------------------------------------------------------\u001b[0m",
      "\u001b[0;31mAttributeError\u001b[0m                            Traceback (most recent call last)",
      "\u001b[0;32m<ipython-input-33-24fa5ec096eb>\u001b[0m in \u001b[0;36m<module>\u001b[0;34m()\u001b[0m\n\u001b[0;32m----> 1\u001b[0;31m \u001b[0mrunner\u001b[0m\u001b[0;34m.\u001b[0m\u001b[0mrun\u001b[0m\u001b[0;34m(\u001b[0m\u001b[0mutils_test\u001b[0m\u001b[0;34m.\u001b[0m\u001b[0mtest_compute_similarity\u001b[0m\u001b[0;34m(\u001b[0m\u001b[0;34m)\u001b[0m\u001b[0;34m)\u001b[0m\u001b[0;34m\u001b[0m\u001b[0m\n\u001b[0m",
      "\u001b[0;32m<ipython-input-22-2c663c4d5b42>\u001b[0m in \u001b[0;36mtest_compute_similarity\u001b[0;34m(self)\u001b[0m\n\u001b[1;32m     14\u001b[0m         ])\n\u001b[1;32m     15\u001b[0m \u001b[0;34m\u001b[0m\u001b[0m\n\u001b[0;32m---> 16\u001b[0;31m         df = self.spark.createDataFrame(\n\u001b[0m\u001b[1;32m     17\u001b[0m             pd.DataFrame(\n\u001b[1;32m     18\u001b[0m                 \u001b[0marrays\u001b[0m\u001b[0;34m\u001b[0m\u001b[0m\n",
      "\u001b[0;31mAttributeError\u001b[0m: 'UtilsTest' object has no attribute 'spark'"
     ]
    }
   ],
   "source": [
    "runner.run(utils_test.test_compute_similarity())"
   ]
  },
  {
   "cell_type": "code",
   "execution_count": null,
   "metadata": {},
   "outputs": [],
   "source": []
  }
 ],
 "metadata": {
  "kernelspec": {
   "display_name": "Python 3",
   "language": "python",
   "name": "python3"
  },
  "language_info": {
   "codemirror_mode": {
    "name": "ipython",
    "version": 3
   },
   "file_extension": ".py",
   "mimetype": "text/x-python",
   "name": "python",
   "nbconvert_exporter": "python",
   "pygments_lexer": "ipython3",
   "version": "3.6.5"
  }
 },
 "nbformat": 4,
 "nbformat_minor": 2
}
