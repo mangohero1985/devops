{
 "cells": [
  {
   "cell_type": "code",
   "execution_count": 1,
   "metadata": {},
   "outputs": [],
   "source": [
    "from pyspark.dbutils import DBUtils\n",
    "from pyspark.sql import SparkSession\n",
    "\n",
    "spark = SparkSession.builder.getOrCreate()\n",
    "dbutils = DBUtils(spark.sparkContext)"
   ]
  },
  {
   "cell_type": "code",
   "execution_count": 2,
   "metadata": {},
   "outputs": [
    {
     "name": "stdout",
     "output_type": "stream",
     "text": [
      "chen has alreay been mounted, skip\n"
     ]
    }
   ],
   "source": [
    "MY_HOME = 'chen'\n",
    "try:\n",
    "  dbutils.fs.mount(\"s3a://svc-analytics-workfiles\", \"/mnt/{}\".format(MY_HOME))  \n",
    "except Exception as e:\n",
    "  print( MY_HOME+\" has alreay been mounted, skip\")"
   ]
  },
  {
   "cell_type": "code",
   "execution_count": 3,
   "metadata": {},
   "outputs": [
    {
     "data": {
      "text/plain": [
       "[FileInfo(path='dbfs:/mnt/chen/supership/weichang.chen/LSTM_input_preproc/df_au_join/', name='df_au_join/', size=0),\n",
       " FileInfo(path='dbfs:/mnt/chen/supership/weichang.chen/LSTM_input_preproc/pd_kw_seq_with_label_10_per', name='pd_kw_seq_with_label_10_per', size=70525559),\n",
       " FileInfo(path='dbfs:/mnt/chen/supership/weichang.chen/LSTM_input_preproc/pd_kw_seq_with_label_10_per_all', name='pd_kw_seq_with_label_10_per_all', size=703010168),\n",
       " FileInfo(path='dbfs:/mnt/chen/supership/weichang.chen/LSTM_input_preproc/w2v.pickle', name='w2v.pickle', size=1324812228)]"
      ]
     },
     "execution_count": 3,
     "metadata": {},
     "output_type": "execute_result"
    }
   ],
   "source": [
    "dbutils.fs.ls(\"/mnt/chen/supership/weichang.chen/LSTM_input_preproc/\")"
   ]
  },
  {
   "cell_type": "code",
   "execution_count": null,
   "metadata": {},
   "outputs": [],
   "source": []
  }
 ],
 "metadata": {
  "kernelspec": {
   "display_name": "Python 3",
   "language": "python",
   "name": "python3"
  },
  "language_info": {
   "codemirror_mode": {
    "name": "ipython",
    "version": 3
   },
   "file_extension": ".py",
   "mimetype": "text/x-python",
   "name": "python",
   "nbconvert_exporter": "python",
   "pygments_lexer": "ipython3",
   "version": "3.7.3"
  }
 },
 "nbformat": 4,
 "nbformat_minor": 4
}
