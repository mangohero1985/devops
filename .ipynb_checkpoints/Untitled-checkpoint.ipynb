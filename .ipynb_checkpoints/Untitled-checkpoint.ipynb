{
 "cells": [
  {
   "cell_type": "code",
   "execution_count": 4,
   "metadata": {},
   "outputs": [],
   "source": [
    "import numpy as np\n",
    "import pandas as pd\n",
    "\n",
    "import pyspark.sql.functions as F\n",
    "import pyspark.sql.types as T\n",
    "from pyspark.sql import SparkSession"
   ]
  },
  {
   "cell_type": "code",
   "execution_count": 11,
   "metadata": {},
   "outputs": [],
   "source": [
    "spark = SparkSession\\\n",
    "    .builder\\\n",
    "    .enableHiveSupport()\\\n",
    "    .config(\"spark.dynamicAllocation.enabled\", False)\\\n",
    "    .config(\"spark.executor.memory\", \"4g\")\\\n",
    "    .getOrCreate()"
   ]
  },
  {
   "cell_type": "code",
   "execution_count": 6,
   "metadata": {},
   "outputs": [],
   "source": [
    "arrays = [\n",
    "  ([1, 2], [2, 4]),\n",
    "  ([1, 1], [-1, -1]),\n",
    "  ([1,2], [2, 1])  \n",
    "]\n",
    "\n",
    "schema = T.StructType([\n",
    "    T.StructField('a', T.ArrayType(T.IntegerType()), nullable=False),\n",
    "    T.StructField('b', T.ArrayType(T.IntegerType()), nullable=False)\n",
    "])\n",
    "\n",
    "df = spark.createDataFrame(\n",
    "  pd.DataFrame(\n",
    "    arrays\n",
    "  ),\n",
    "  schema\n",
    ")"
   ]
  },
  {
   "cell_type": "code",
   "execution_count": 8,
   "metadata": {},
   "outputs": [
    {
     "name": "stdout",
     "output_type": "stream",
     "text": [
      "+------+--------+\n",
      "|     a|       b|\n",
      "+------+--------+\n",
      "|[1, 2]|  [2, 4]|\n",
      "|[1, 1]|[-1, -1]|\n",
      "|[1, 2]|  [2, 1]|\n",
      "+------+--------+\n",
      "\n"
     ]
    }
   ],
   "source": [
    "df.show()"
   ]
  },
  {
   "cell_type": "code",
   "execution_count": 9,
   "metadata": {},
   "outputs": [
    {
     "name": "stdout",
     "output_type": "stream",
     "text": [
      "+-------+\n",
      "|cos_sim|\n",
      "+-------+\n",
      "|    1.0|\n",
      "|   -1.0|\n",
      "|    0.8|\n",
      "+-------+\n",
      "\n"
     ]
    }
   ],
   "source": [
    "def cosine_similarity(a, b):\n",
    "  return float(np.dot(a, b)/(np.linalg.norm(a)*np.linalg.norm(b)))\n",
    "\n",
    "cosine_similarity_udf = F.udf(cosine_similarity, T.FloatType())\n",
    "\n",
    "def compute_similarity(df):\n",
    "  rst = df\\\n",
    "  .withColumn(\"cos_sim\", cosine_similarity_udf(F.col(\"a\"), F.col(\"b\")))\\\n",
    "  .select(\"cos_sim\")\n",
    "  return rst\n",
    "\n",
    "df_rst = compute_similarity(df)\n",
    "df_rst.show()"
   ]
  },
  {
   "cell_type": "code",
   "execution_count": 37,
   "metadata": {},
   "outputs": [],
   "source": [
    "from tools import compute_similarity\n",
    "from BaseTest import PysparkTestCase"
   ]
  },
  {
   "cell_type": "code",
   "execution_count": null,
   "metadata": {},
   "outputs": [],
   "source": []
  },
  {
   "cell_type": "code",
   "execution_count": 49,
   "metadata": {},
   "outputs": [],
   "source": [
    "class ToolsTest(PysparkTestCase):\n",
    "\n",
    "    def test_compute_similarity(self):\n",
    "        arrays = [\n",
    "            ([1, 2], [2, 4], 1.0),\n",
    "            ([1, 1], [-1, -1], -1.0),\n",
    "            ([1, 2], [2, 1], 0.8)\n",
    "        ]\n",
    "\n",
    "        schema = T.StructType([\n",
    "            T.StructField('a', T.ArrayType(T.IntegerType()), nullable=False),\n",
    "            T.StructField('b', T.ArrayType(T.IntegerType()), nullable=False),\n",
    "            T.StructField('c', T.FloatType(), nullable=False)\n",
    "        ])\n",
    "\n",
    "        df = self.spark.createDataFrame(\n",
    "            pd.DataFrame(\n",
    "                arrays\n",
    "            ),\n",
    "            schema\n",
    "        )\n",
    "        df_expect = df.select(F.col('c'))\n",
    "\n",
    "        df_test = compute_similarity(df)\n",
    "\n",
    "        self.assertTrue(\n",
    "            self.is_dataframe_equal(\n",
    "                df_test,\n",
    "                df_expect\n",
    "            )\n",
    "        )"
   ]
  },
  {
   "cell_type": "code",
   "execution_count": 50,
   "metadata": {},
   "outputs": [],
   "source": [
    "import unittest"
   ]
  },
  {
   "cell_type": "code",
   "execution_count": 51,
   "metadata": {},
   "outputs": [],
   "source": [
    "runner = unittest.TextTestRunner()\n",
    "tool_test = ToolsTest()"
   ]
  },
  {
   "cell_type": "code",
   "execution_count": 52,
   "metadata": {},
   "outputs": [
    {
     "ename": "AttributeError",
     "evalue": "'ToolsTest' object has no attribute 'spark'",
     "output_type": "error",
     "traceback": [
      "\u001b[0;31m---------------------------------------------------------------------------\u001b[0m",
      "\u001b[0;31mAttributeError\u001b[0m                            Traceback (most recent call last)",
      "\u001b[0;32m<ipython-input-52-761dd4768eb0>\u001b[0m in \u001b[0;36m<module>\u001b[0;34m()\u001b[0m\n\u001b[0;32m----> 1\u001b[0;31m \u001b[0mrunner\u001b[0m\u001b[0;34m.\u001b[0m\u001b[0mrun\u001b[0m\u001b[0;34m(\u001b[0m\u001b[0mtool_test\u001b[0m\u001b[0;34m.\u001b[0m\u001b[0mtest_compute_similarity\u001b[0m\u001b[0;34m(\u001b[0m\u001b[0;34m)\u001b[0m\u001b[0;34m)\u001b[0m\u001b[0;34m\u001b[0m\u001b[0m\n\u001b[0m",
      "\u001b[0;32m<ipython-input-49-06173ad56d1c>\u001b[0m in \u001b[0;36mtest_compute_similarity\u001b[0;34m(self)\u001b[0m\n\u001b[1;32m     14\u001b[0m         ])\n\u001b[1;32m     15\u001b[0m \u001b[0;34m\u001b[0m\u001b[0m\n\u001b[0;32m---> 16\u001b[0;31m         df = self.spark.createDataFrame(\n\u001b[0m\u001b[1;32m     17\u001b[0m             pd.DataFrame(\n\u001b[1;32m     18\u001b[0m                 \u001b[0marrays\u001b[0m\u001b[0;34m\u001b[0m\u001b[0m\n",
      "\u001b[0;31mAttributeError\u001b[0m: 'ToolsTest' object has no attribute 'spark'"
     ]
    }
   ],
   "source": [
    "runner.run(tool_test.test_compute_similarity())"
   ]
  },
  {
   "cell_type": "code",
   "execution_count": null,
   "metadata": {},
   "outputs": [],
   "source": []
  }
 ],
 "metadata": {
  "kernelspec": {
   "display_name": "Python 3",
   "language": "python",
   "name": "python3"
  },
  "language_info": {
   "codemirror_mode": {
    "name": "ipython",
    "version": 3
   },
   "file_extension": ".py",
   "mimetype": "text/x-python",
   "name": "python",
   "nbconvert_exporter": "python",
   "pygments_lexer": "ipython3",
   "version": "3.6.5"
  }
 },
 "nbformat": 4,
 "nbformat_minor": 2
}
